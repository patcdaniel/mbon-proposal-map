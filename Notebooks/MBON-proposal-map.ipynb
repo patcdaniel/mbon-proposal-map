{
 "cells": [
  {
   "cell_type": "code",
   "execution_count": 4,
   "metadata": {},
   "outputs": [],
   "source": [
    "import pandas as pd\n",
    "import xarray as xr\n",
    "import matplotlib.pyplot as plt\n",
    "import cartopy, os\n",
    "from cartopy import feature as cfeature\n",
    "from cartopy.io.shapereader import Reader\n",
    "from cartopy import crs as ccrs\n",
    "from erddapy import ERDDAP\n",
    "import datetime as dt\n",
    "import json\n",
    "import numpy as np\n",
    "from cmocean import cm\n",
    "import cmocean\n",
    "\n",
    "# from geopy.distance import vincenty\n",
    "from matplotlib.colors import Normalize\n",
    "from matplotlib.lines import Line2D\n",
    "from cartopy.mpl.ticker import LongitudeFormatter, LatitudeFormatter\n",
    "from mpl_toolkits.axes_grid1 import make_axes_locatable\n",
    "import matplotlib.ticker as mticker\n",
    "from cartopy.mpl.gridliner import LONGITUDE_FORMATTER, LATITUDE_FORMATTER"
   ]
  },
  {
   "cell_type": "markdown",
   "metadata": {},
   "source": [
    "__Figure for MBON propsal__\n",
    "\n",
    "Data sources to illustrate:\n",
    "\n",
    "    - Rockfish Cruise stations\n",
    "    - Calcofi\n",
    "\t- Glider lines\n",
    "\t- Wind/Wave buoys\n",
    "\t- ATN tracks\n",
    "\t- HFR\n",
    "\t- Chl-a\n",
    "\t- SST\n",
    "\t- eDNA - ships, LRAUV tracks, point sample"
   ]
  },
  {
   "cell_type": "code",
   "execution_count": 5,
   "metadata": {},
   "outputs": [],
   "source": [
    "# Mapping helper function\n",
    "def make_map(projection=ccrs.PlateCarree(),extent=(-130.5,-116.75,32,42)):\n",
    "    fig, ax = plt.subplots(\n",
    "        subplot_kw={'projection': projection},\n",
    "        figsize=(12, 15)\n",
    "    )\n",
    "    ax.set_extent(extent, crs=ccrs.PlateCarree())\n",
    "    gl = ax.gridlines(draw_labels=True,)\n",
    "    gl.xlines = False\n",
    "    gl.ylines = False\n",
    "    gl.xlabels_top = False\n",
    "    gl.ylabels_right = False\n",
    "    gl.xlabel_style = {'size': 22}\n",
    "    gl.ylabel_style = {'size': 22}\n",
    "    gl.ylocator = mticker.FixedLocator(range(32,48,4))\n",
    "    gl.xlocator = mticker.FixedLocator(range(-128,-100,4))\n",
    "    gl.xformatter = LONGITUDE_FORMATTER\n",
    "    gl.yformatter = LATITUDE_FORMATTER\n",
    "    \n",
    "    land_10m  = cfeature.NaturalEarthFeature(category='physical', name='land',\n",
    "                            scale='10m', facecolor=cfeature.COLORS['land'], edgecolor='k')\n",
    "    ax.add_feature(land_10m,zorder=20)\n",
    "#     ocean_50m  = cfeature.NaturalEarthFeature(category='physical', name='ocean',\n",
    "#                             scale='50m', facecolor=cfeature.COLORS['water'])\n",
    "#     ax.add_feature(ocean_50m,zorder=0)\n",
    "    return fig, ax"
   ]
  },
  {
   "cell_type": "markdown",
   "metadata": {},
   "source": [
    "## Rockfish Cruise station data"
   ]
  },
  {
   "cell_type": "code",
   "execution_count": 6,
   "metadata": {},
   "outputs": [],
   "source": [
    "## Access the rockfish cruise data from ERDDAP\n",
    "e = ERDDAP(\n",
    "    server='https://coastwatch.pfeg.noaa.gov/erddap',\n",
    "    protocol='tabledap',\n",
    ")\n",
    "\n",
    "dataset_id = \"FED_Rockfish_Catch\"\n",
    "\n",
    "variables = [\n",
    " 'time',\n",
    " 'latitude',\n",
    " 'longitude',\n",
    " 'cruise',\n",
    " 'station'\n",
    "]\n",
    "e.dataset_id = dataset_id\n",
    "e.variables = variables\n",
    "\n",
    "rf_df = e.to_pandas(\n",
    "    index_col='time (UTC)',\n",
    "    parse_dates=True,\n",
    ").dropna()\n",
    "rf_df = rf_df.tz_convert(None)"
   ]
  },
  {
   "cell_type": "code",
   "execution_count": 7,
   "metadata": {},
   "outputs": [
    {
     "name": "stderr",
     "output_type": "stream",
     "text": [
      "/Users/patrick/anaconda3/lib/python3.7/site-packages/ipykernel_launcher.py:2: SettingWithCopyWarning: \n",
      "A value is trying to be set on a copy of a slice from a DataFrame.\n",
      "Try using .loc[row_indexer,col_indexer] = value instead\n",
      "\n",
      "See the caveats in the documentation: https://pandas.pydata.org/pandas-docs/stable/user_guide/indexing.html#returning-a-view-versus-a-copy\n",
      "  \n"
     ]
    }
   ],
   "source": [
    "rf_2015 = rf_df[rf_df.index > dt.datetime(2015,1,1)]\n",
    "rf_2015['time_UTC'] = rf_2015.index\n",
    "rf_2015.groupby(['cruise','station']).first().reset_index().to_csv('FED_rockfish_Cruise.csv',index=False)"
   ]
  },
  {
   "cell_type": "code",
   "execution_count": 5,
   "metadata": {},
   "outputs": [
    {
     "data": {
      "text/html": [
       "<div>\n",
       "<style scoped>\n",
       "    .dataframe tbody tr th:only-of-type {\n",
       "        vertical-align: middle;\n",
       "    }\n",
       "\n",
       "    .dataframe tbody tr th {\n",
       "        vertical-align: top;\n",
       "    }\n",
       "\n",
       "    .dataframe thead th {\n",
       "        text-align: right;\n",
       "    }\n",
       "</style>\n",
       "<table border=\"1\" class=\"dataframe\">\n",
       "  <thead>\n",
       "    <tr style=\"text-align: right;\">\n",
       "      <th></th>\n",
       "      <th>cruise</th>\n",
       "      <th>station</th>\n",
       "      <th>latitude (degrees_north)</th>\n",
       "      <th>longitude (degrees_east)</th>\n",
       "      <th>time_UTC</th>\n",
       "    </tr>\n",
       "  </thead>\n",
       "  <tbody>\n",
       "    <tr>\n",
       "      <th>0</th>\n",
       "      <td>1505</td>\n",
       "      <td>101</td>\n",
       "      <td>36.3027</td>\n",
       "      <td>-121.9515</td>\n",
       "      <td>2015-06-11 04:25:33</td>\n",
       "    </tr>\n",
       "    <tr>\n",
       "      <th>1</th>\n",
       "      <td>1505</td>\n",
       "      <td>103</td>\n",
       "      <td>36.3040</td>\n",
       "      <td>-122.0200</td>\n",
       "      <td>2015-06-11 05:33:49</td>\n",
       "    </tr>\n",
       "    <tr>\n",
       "      <th>2</th>\n",
       "      <td>1505</td>\n",
       "      <td>104</td>\n",
       "      <td>36.3062</td>\n",
       "      <td>-122.1002</td>\n",
       "      <td>2015-06-11 06:57:16</td>\n",
       "    </tr>\n",
       "    <tr>\n",
       "      <th>3</th>\n",
       "      <td>1505</td>\n",
       "      <td>105</td>\n",
       "      <td>36.3098</td>\n",
       "      <td>-122.1975</td>\n",
       "      <td>2015-06-11 08:36:46</td>\n",
       "    </tr>\n",
       "    <tr>\n",
       "      <th>4</th>\n",
       "      <td>1505</td>\n",
       "      <td>106</td>\n",
       "      <td>36.3042</td>\n",
       "      <td>-122.3060</td>\n",
       "      <td>2015-06-11 10:18:22</td>\n",
       "    </tr>\n",
       "    <tr>\n",
       "      <th>...</th>\n",
       "      <td>...</td>\n",
       "      <td>...</td>\n",
       "      <td>...</td>\n",
       "      <td>...</td>\n",
       "      <td>...</td>\n",
       "    </tr>\n",
       "    <tr>\n",
       "      <th>293</th>\n",
       "      <td>1802</td>\n",
       "      <td>617</td>\n",
       "      <td>40.9787</td>\n",
       "      <td>-124.9200</td>\n",
       "      <td>2018-05-20 10:47:00</td>\n",
       "    </tr>\n",
       "    <tr>\n",
       "      <th>294</th>\n",
       "      <td>1802</td>\n",
       "      <td>621</td>\n",
       "      <td>41.4812</td>\n",
       "      <td>-124.2735</td>\n",
       "      <td>2018-05-21 04:59:39</td>\n",
       "    </tr>\n",
       "    <tr>\n",
       "      <th>295</th>\n",
       "      <td>1802</td>\n",
       "      <td>622</td>\n",
       "      <td>41.4890</td>\n",
       "      <td>-124.3528</td>\n",
       "      <td>2018-05-21 06:21:14</td>\n",
       "    </tr>\n",
       "    <tr>\n",
       "      <th>296</th>\n",
       "      <td>1802</td>\n",
       "      <td>623</td>\n",
       "      <td>41.4847</td>\n",
       "      <td>-124.4657</td>\n",
       "      <td>2018-05-21 07:55:59</td>\n",
       "    </tr>\n",
       "    <tr>\n",
       "      <th>297</th>\n",
       "      <td>1802</td>\n",
       "      <td>625</td>\n",
       "      <td>41.4863</td>\n",
       "      <td>-124.6925</td>\n",
       "      <td>2018-05-21 09:48:35</td>\n",
       "    </tr>\n",
       "  </tbody>\n",
       "</table>\n",
       "<p>298 rows × 5 columns</p>\n",
       "</div>"
      ],
      "text/plain": [
       "     cruise  station  latitude (degrees_north)  longitude (degrees_east)  \\\n",
       "0      1505      101                   36.3027                 -121.9515   \n",
       "1      1505      103                   36.3040                 -122.0200   \n",
       "2      1505      104                   36.3062                 -122.1002   \n",
       "3      1505      105                   36.3098                 -122.1975   \n",
       "4      1505      106                   36.3042                 -122.3060   \n",
       "..      ...      ...                       ...                       ...   \n",
       "293    1802      617                   40.9787                 -124.9200   \n",
       "294    1802      621                   41.4812                 -124.2735   \n",
       "295    1802      622                   41.4890                 -124.3528   \n",
       "296    1802      623                   41.4847                 -124.4657   \n",
       "297    1802      625                   41.4863                 -124.6925   \n",
       "\n",
       "               time_UTC  \n",
       "0   2015-06-11 04:25:33  \n",
       "1   2015-06-11 05:33:49  \n",
       "2   2015-06-11 06:57:16  \n",
       "3   2015-06-11 08:36:46  \n",
       "4   2015-06-11 10:18:22  \n",
       "..                  ...  \n",
       "293 2018-05-20 10:47:00  \n",
       "294 2018-05-21 04:59:39  \n",
       "295 2018-05-21 06:21:14  \n",
       "296 2018-05-21 07:55:59  \n",
       "297 2018-05-21 09:48:35  \n",
       "\n",
       "[298 rows x 5 columns]"
      ]
     },
     "execution_count": 5,
     "metadata": {},
     "output_type": "execute_result"
    }
   ],
   "source": [
    "rf_2015.groupby(['cruise','station']).first().reset_index()"
   ]
  },
  {
   "cell_type": "markdown",
   "metadata": {},
   "source": [
    "### Calcofi Stataion"
   ]
  },
  {
   "cell_type": "code",
   "execution_count": 6,
   "metadata": {},
   "outputs": [],
   "source": [
    "e = ERDDAP(\n",
    "server='https://coastwatch.pfeg.noaa.gov/erddap',\n",
    "protocol='tabledap',\n",
    ")\n",
    "\n",
    "dataset_id = \"erdCalCOFIstns\"\n",
    "\n",
    "variables = [\n",
    " 'time',\n",
    " 'latitude',\n",
    " 'longitude',\n",
    " 'order_occupied',\n",
    "]\n",
    "e.dataset_id = dataset_id\n",
    "e.variables = variables\n",
    "\n",
    "df_cal = e.to_pandas(\n",
    "    index_col='time (UTC)',\n",
    "    parse_dates=True,\n",
    ").dropna()\n",
    "df_cal['dateTime'] = df_cal.index\n",
    "df_cal = df_cal[df_cal[\"dateTime\"].dt.year ==2015]\n"
   ]
  },
  {
   "cell_type": "code",
   "execution_count": 7,
   "metadata": {},
   "outputs": [],
   "source": [
    "df_c = df_cal[(df_cal['order_occupied']> 30) & (df_cal['order_occupied']< 100)]\n",
    "llat = df_c[\"latitude (degrees_north)\"].values\n",
    "llon = df_c[\"longitude (degrees_east)\"].values"
   ]
  },
  {
   "cell_type": "code",
   "execution_count": 8,
   "metadata": {},
   "outputs": [],
   "source": [
    "stations = [70,56,57,58,59,60,61]\n",
    "df_c = df_cal[(df_cal['order_occupied'].isin(stations)) & (df_cal[\"latitude (degrees_north)\"] < 36)]"
   ]
  },
  {
   "cell_type": "code",
   "execution_count": 9,
   "metadata": {},
   "outputs": [],
   "source": [
    "df_c.to_csv('../Data/CalCOFI_Cruise.csv',index=False)"
   ]
  },
  {
   "cell_type": "code",
   "execution_count": 3,
   "metadata": {},
   "outputs": [
    {
     "ename": "NameError",
     "evalue": "name 'df_c' is not defined",
     "output_type": "error",
     "traceback": [
      "\u001b[0;31m---------------------------------------------------------------------------\u001b[0m",
      "\u001b[0;31mNameError\u001b[0m                                 Traceback (most recent call last)",
      "\u001b[0;32m<ipython-input-3-1661f2a96cfc>\u001b[0m in \u001b[0;36m<module>\u001b[0;34m\u001b[0m\n\u001b[0;32m----> 1\u001b[0;31m \u001b[0mstation_txt\u001b[0m \u001b[0;34m=\u001b[0m \u001b[0;34m[\u001b[0m\u001b[0mstr\u001b[0m\u001b[0;34m(\u001b[0m\u001b[0mst\u001b[0m\u001b[0;34m)\u001b[0m \u001b[0;32mfor\u001b[0m \u001b[0mst\u001b[0m \u001b[0;32min\u001b[0m \u001b[0mdf_c\u001b[0m\u001b[0;34m[\u001b[0m\u001b[0;34m'order_occupied'\u001b[0m\u001b[0;34m]\u001b[0m\u001b[0;34m.\u001b[0m\u001b[0mvalues\u001b[0m\u001b[0;34m]\u001b[0m\u001b[0;34m\u001b[0m\u001b[0;34m\u001b[0m\u001b[0m\n\u001b[0m\u001b[1;32m      2\u001b[0m \u001b[0mfig\u001b[0m\u001b[0;34m,\u001b[0m\u001b[0max\u001b[0m \u001b[0;34m=\u001b[0m \u001b[0mmake_map\u001b[0m\u001b[0;34m(\u001b[0m\u001b[0;34m)\u001b[0m\u001b[0;34m\u001b[0m\u001b[0;34m\u001b[0m\u001b[0m\n\u001b[1;32m      3\u001b[0m \u001b[0max\u001b[0m\u001b[0;34m.\u001b[0m\u001b[0mscatter\u001b[0m\u001b[0;34m(\u001b[0m\u001b[0mdf_c\u001b[0m\u001b[0;34m[\u001b[0m\u001b[0;34m\"longitude (degrees_east)\"\u001b[0m\u001b[0;34m]\u001b[0m\u001b[0;34m,\u001b[0m\u001b[0mdf_c\u001b[0m\u001b[0;34m[\u001b[0m\u001b[0;34m\"latitude (degrees_north)\"\u001b[0m\u001b[0;34m]\u001b[0m\u001b[0;34m)\u001b[0m\u001b[0;34m\u001b[0m\u001b[0;34m\u001b[0m\u001b[0m\n",
      "\u001b[0;31mNameError\u001b[0m: name 'df_c' is not defined"
     ]
    }
   ],
   "source": [
    "station_txt = [str(st) for st in df_c['order_occupied'].values]\n",
    "fig,ax = make_map()\n",
    "ax.scatter(df_c[\"longitude (degrees_east)\"],df_c[\"latitude (degrees_north)\"])"
   ]
  },
  {
   "cell_type": "code",
   "execution_count": 2,
   "metadata": {},
   "outputs": [
    {
     "ename": "NameError",
     "evalue": "name 'df_c' is not defined",
     "output_type": "error",
     "traceback": [
      "\u001b[0;31m---------------------------------------------------------------------------\u001b[0m",
      "\u001b[0;31mNameError\u001b[0m                                 Traceback (most recent call last)",
      "\u001b[0;32m<ipython-input-2-39807879a657>\u001b[0m in \u001b[0;36m<module>\u001b[0;34m\u001b[0m\n\u001b[0;32m----> 1\u001b[0;31m \u001b[0;32mfor\u001b[0m \u001b[0mcol\u001b[0m \u001b[0;32min\u001b[0m \u001b[0mdf_c\u001b[0m\u001b[0;34m.\u001b[0m\u001b[0mcolumns\u001b[0m\u001b[0;34m:\u001b[0m\u001b[0;34m\u001b[0m\u001b[0;34m\u001b[0m\u001b[0m\n\u001b[0m\u001b[1;32m      2\u001b[0m     \u001b[0mprint\u001b[0m\u001b[0;34m(\u001b[0m\u001b[0mcol\u001b[0m\u001b[0;34m)\u001b[0m\u001b[0;34m\u001b[0m\u001b[0;34m\u001b[0m\u001b[0m\n",
      "\u001b[0;31mNameError\u001b[0m: name 'df_c' is not defined"
     ]
    }
   ],
   "source": [
    "for col in df_c.columns:\n",
    "    print(col)"
   ]
  },
  {
   "cell_type": "markdown",
   "metadata": {},
   "source": [
    "## Coastwatch Global Seascape Data\n",
    "\n",
    "Global seascape prototype data is descibed as: \"Biogeographic framework. Space and time classified simultaneously from synoptic time series using hierarchical and topology preserving machine learning\"\n",
    "\n",
    "Availible in portal at: http://cwcgom.aoml.noaa.gov/cgom/OceanViewer/#\n",
    "\n",
    "THREDDS: http://cwcgom.aoml.noaa.gov/thredds/dodsC/SEASCAPE_MONTH/SEASCAPES.nc.html"
   ]
  },
  {
   "cell_type": "code",
   "execution_count": 8,
   "metadata": {},
   "outputs": [],
   "source": [
    "thredds_url = \"http://cwcgom.aoml.noaa.gov/thredds/dodsC/SEASCAPE_MONTH/SEASCAPES.nc\"\n",
    "ss_ds = xr.open_dataset(thredds_url)\n",
    "# sub_domain = ss_ds.sel(lat=slice(32,50),lon=slice(-132,-116))\n",
    "sub_domain = ss_ds.sel(lat=slice(32,50),lon=slice(-132,-116)) # Central Coast\n",
    "xx,yy = np.meshgrid(sub_domain['lon'], sub_domain['lat'])"
   ]
  },
  {
   "cell_type": "code",
   "execution_count": null,
   "metadata": {},
   "outputs": [],
   "source": [
    "seasonal = sub_domain['CLASS'].isel(time=220).values\n",
    "flat = seasonal.flatten()\n",
    "ix = np.where(np.isfinite(flat))\n",
    "cat_values = np.unique(flat[ix[0][:]])\n",
    "cat_key = np.arange(0,len(cat_values),dtype=int)\n",
    "\n",
    "for i in cat_key:\n",
    "    ix = np.where(seasonal == cat_values[i])\n",
    "    seasonal[ix] = i\n",
    "\n",
    "ticks = (np.arange(len(cat_values)) + 0.5)*(len(cat_values)-1)/len(cat_values)\n",
    "\n",
    "fig, ax = make_map()\n",
    "\n",
    "im = ax.pcolormesh(xx, yy, seasonal,transform=ccrs.PlateCarree(),cmap=plt.cm.get_cmap('cmo.speed', len(cat_key)))\n",
    "# im = ax.pcolormesh(xx, yy, seasonal,transform=ccrs.PlateCarree(),cmap='cmo.amp')\n",
    "divider = make_axes_locatable(ax)\n",
    "ax_cb = divider.new_horizontal(size=\"5%\", pad=.45, axes_class=plt.Axes)\n",
    "fig.add_axes(ax_cb)\n",
    "formatter = plt.FuncFormatter(lambda val, loc: int(cat_values[int(val)]))\n",
    "formatter = plt.FuncFormatter(lambda val, loc: int(cat_values[np.where(ticks == val)][0]))\n",
    "\n",
    "cbar = plt.colorbar(im, cax=ax_cb, ticks=ticks,format=formatter)\n",
    "cbar.ax.tick_params(labelsize=20) "
   ]
  },
  {
   "cell_type": "markdown",
   "metadata": {},
   "source": [
    "## Trinidad Head Line"
   ]
  },
  {
   "cell_type": "code",
   "execution_count": null,
   "metadata": {},
   "outputs": [],
   "source": [
    "fname = './trinidad_head_station_locations.csv'\n",
    "df_thl = pd.read_csv(fname)\n",
    "df_thl"
   ]
  },
  {
   "cell_type": "code",
   "execution_count": null,
   "metadata": {},
   "outputs": [],
   "source": [
    "# fig, ax = make_map()\n",
    "# ax.scatter(df_thl['Lon'], df_thl['Lat'],marker='d',c='k')"
   ]
  },
  {
   "cell_type": "markdown",
   "metadata": {},
   "source": [
    "## HFR 6-km radar data"
   ]
  },
  {
   "cell_type": "code",
   "execution_count": null,
   "metadata": {},
   "outputs": [],
   "source": [
    "# hfr_url = \"http://hfrnet-tds.ucsd.edu/thredds/dodsC/HFR/USWC/2km/hourly/RTV/HFRADAR_US_West_Coast_2km_Resolution_Hourly_RTV_best.ncd\"\n",
    "# hfr_ds = xr.open_dataset(hfr_url)\n",
    "# recent_ds = hfr_ds.isel(time=-2)\n",
    "# u = recent_ds['u']\n",
    "# v = recent_ds['v']\n",
    "# speed = np.sqrt(u.values**2 + v.values**2)\n",
    "# xx,yy = np.meshgrid(recent_ds['lon'], recent_ds['lat'])"
   ]
  },
  {
   "cell_type": "code",
   "execution_count": null,
   "metadata": {},
   "outputs": [],
   "source": [
    "# ix = np.where(speed < .5)"
   ]
  },
  {
   "cell_type": "code",
   "execution_count": null,
   "metadata": {},
   "outputs": [],
   "source": [
    "# fig, ax = make_map()\n",
    "# ax.quiver(xx[ix],yy[ix],u.values[ix],v.values[ix],speed[ix],\n",
    "#           cmap=cm.speed,\n",
    "#           scale_units='xy',\n",
    "#           scale=.5,)\n",
    "# # ax.scatter(rf_2015['longitude (degrees_east)'], rf_2015['latitude (degrees_north)'], marker='.',c='k')"
   ]
  },
  {
   "cell_type": "markdown",
   "metadata": {},
   "source": [
    "## Get Glider lines"
   ]
  },
  {
   "cell_type": "code",
   "execution_count": null,
   "metadata": {},
   "outputs": [],
   "source": [
    "e = ERDDAP(\n",
    "    server='https://data.ioos.us/gliders/erddap',\n",
    "    protocol='tabledap',\n",
    ")\n",
    "min_lon,max_lon,min_lat,max_lat= (-130,-116.75,32,42)\n",
    "min_time = \"2018-01-01T00:00:00Z\"\n",
    "max_time = \"2019-01-01T00:00:00Z\"\n",
    "kw = {\n",
    "    'standard_name': 'sea_water_temperature',\n",
    "    'min_lon': min_lon,\n",
    "    'max_lon': max_lon,\n",
    "    'min_lat': min_lat,\n",
    "    'max_lat': max_lat,\n",
    "    'min_time': min_time,\n",
    "    'max_time': max_time,\n",
    "    'cdm_data_type': 'trajectoryprofile'\n",
    "}\n",
    "search_url = e.get_search_url(response='csv', **kw)\n",
    "search = pd.read_csv(search_url)\n",
    "gliders = search['Dataset ID'].values"
   ]
  },
  {
   "cell_type": "code",
   "execution_count": null,
   "metadata": {},
   "outputs": [],
   "source": [
    "gliders"
   ]
  },
  {
   "cell_type": "code",
   "execution_count": null,
   "metadata": {},
   "outputs": [],
   "source": [
    "e.variables = variables\n",
    "variables = [\n",
    " 'latitude',\n",
    " 'longitude',\n",
    " 'time',\n",
    "]\n",
    "gliders_to_plot = [\"sp058-20180126T1753\",'UW157-20180417T1832',\"Nemesis-20180830T0000\",\"sp025-20180430T1727\"]\n",
    "for i, glider_id in enumerate(gliders_to_plot):\n",
    "    e.dataset_id = glider_id\n",
    "    df = e.to_pandas(\n",
    "        index_col='time (UTC)',\n",
    "        parse_dates=True,\n",
    "    ).dropna()\n",
    "    df['glider_name'] = glider_id\n",
    "    print(\"Pulling glider: {0}\".format(glider_id))\n",
    "    if i == 0:\n",
    "        df_gliders = df\n",
    "    else:\n",
    "        df_array = (df_gliders, df)\n",
    "        df_gliders = pd.concat(df_array)"
   ]
  },
  {
   "cell_type": "code",
   "execution_count": null,
   "metadata": {},
   "outputs": [],
   "source": [
    "e.variables"
   ]
  },
  {
   "cell_type": "code",
   "execution_count": null,
   "metadata": {},
   "outputs": [],
   "source": [
    "gliders_to_plot = [\"sp058-20180126T1753\",'UW157-20180417T1832',\"Nemesis-20180830T0000\",\"sp025-20180430T1727\"]\n",
    "fig, ax = make_map()\n",
    "# ax.quiver(xx,yy,u,v,speed,cmap=cm.speed,units='x',scale=3,scale_units='x') # HFR\n",
    "# for i, name in enumerate(df_gliders['glider_name'].unique()):\n",
    "for i, name in enumerate(gliders_to_plot):\n",
    "    df_temp = df_gliders[df_gliders['glider_name']==name]\n",
    "    ax.scatter(df_temp['longitude (degrees_east)'], df_temp['latitude (degrees_north)'],s=20,marker='.',c='k') # Gliders\n",
    "ax.scatter(rf_2015['longitude (degrees_east)'], rf_2015['latitude (degrees_north)'], marker='.') # Rockfish\n"
   ]
  },
  {
   "cell_type": "markdown",
   "metadata": {},
   "source": [
    "### Coastal Relief Model"
   ]
  },
  {
   "cell_type": "code",
   "execution_count": null,
   "metadata": {},
   "outputs": [],
   "source": [
    "fname = './crm.nc'\n",
    "ds_bathy = xr.open_dataset(fname)\n",
    "elev = ds_bathy['Band1'] * -1\n",
    "llon, llat = np.meshgrid(ds_bathy['lon'], ds_bathy['lat'])\n",
    "levels = np.append(np.arange(-10,501,100), np.array((1000,1500,2000,3000,5000)))"
   ]
  },
  {
   "cell_type": "markdown",
   "metadata": {},
   "source": [
    "## ACCESS Trawl stations"
   ]
  },
  {
   "cell_type": "code",
   "execution_count": null,
   "metadata": {},
   "outputs": [],
   "source": [
    "# Mapping helper function\n",
    "def make_map_inlet(projection=ccrs.PlateCarree(),extent=(-123.75,-122.25,36.9,38.75)):\n",
    "    fig, ax = plt.subplots(\n",
    "        subplot_kw={'projection': projection},\n",
    "        figsize=(6, 6)\n",
    "    )\n",
    "    ax.set_extent(extent, crs=ccrs.PlateCarree())\n",
    "    gl = ax.gridlines(draw_labels=True,)\n",
    "    gl.xlines = False\n",
    "    gl.ylines = False\n",
    "    gl.xlabels_top = False\n",
    "    gl.ylabels_right = False\n",
    "    gl.xlabel_style = {'size': 22}\n",
    "    gl.ylabel_style = {'size': 22}\n",
    "    gl.ylocator = mticker.FixedLocator(range(32,48,10))\n",
    "    gl.xlocator = mticker.FixedLocator(range(-128,-100,10))\n",
    "    gl.xformatter = LONGITUDE_FORMATTER\n",
    "    gl.yformatter = LATITUDE_FORMATTER\n",
    "    \n",
    "    land_10m  = cfeature.NaturalEarthFeature(category='physical', name='land',\n",
    "                            scale='10m', facecolor=cfeature.COLORS['land'], edgecolor='k',linewidths=2)\n",
    "    ax.add_feature(land_10m,)\n",
    "#     ocean_50m  = cfeature.NaturalEarthFeature(category='physical', name='ocean',\n",
    "#                             scale='50m', facecolor=cfeature.COLORS['water'])\n",
    "#     ax.add_feature(ocean_50m,zorder=0)\n",
    "    return fig, ax\n",
    "\n",
    "# Mapping helper function\n",
    "def make_map_inlet_humboldt(projection=ccrs.PlateCarree(),extent=(-125.85,-124,40.325,41.75)):\n",
    "    fig, ax = plt.subplots(\n",
    "        subplot_kw={'projection': projection},\n",
    "#         figsize=(6, 6)\n",
    "    )\n",
    "    ax.set_extent(extent, crs=ccrs.PlateCarree())\n",
    "    gl = ax.gridlines(draw_labels=True,)\n",
    "    gl.xlines = False\n",
    "    gl.ylines = False\n",
    "    gl.xlabels_top = False\n",
    "    gl.ylabels_right = False\n",
    "    gl.xlabel_style = {'size': 22}\n",
    "    gl.ylabel_style = {'size': 22}\n",
    "    gl.ylocator = mticker.FixedLocator(range(32,48,4))\n",
    "    gl.xlocator = mticker.FixedLocator(range(-128,-100,4))\n",
    "    gl.xformatter = LONGITUDE_FORMATTER\n",
    "    gl.yformatter = LATITUDE_FORMATTER\n",
    "    \n",
    "    land_10m  = cfeature.NaturalEarthFeature(category='physical', name='land',\n",
    "                            scale='10m', facecolor=cfeature.COLORS['land'], edgecolor='k',linewidths=2)\n",
    "    ax.add_feature(land_10m,)\n",
    "#     ocean_50m  = cfeature.NaturalEarthFeature(category='physical', name='ocean',\n",
    "#                             scale='50m', facecolor=cfeature.COLORS['water'])\n",
    "#     ax.add_feature(ocean_50m,zorder=0)\n",
    "    return fig, ax"
   ]
  },
  {
   "cell_type": "code",
   "execution_count": null,
   "metadata": {},
   "outputs": [],
   "source": [
    "fname = \"access_trawl.csv\"\n",
    "df_access = pd.read_csv(fname)\n",
    "df_access['eventDate'] = pd.to_datetime(df_access['eventDate'])\n",
    "station = df_access.groupby('eventDate').first()\n",
    "station = station[station.index > dt.datetime(2013,1,1)]\n",
    "station.to_csv('ACCESS_Cruise.csv')"
   ]
  },
  {
   "cell_type": "code",
   "execution_count": null,
   "metadata": {},
   "outputs": [],
   "source": [
    "fname = \"access_trawl.csv\"\n",
    "df_access = pd.read_csv(fname)\n",
    "df_access['eventDate'] = pd.to_datetime(df_access['eventDate'])\n",
    "station = df_access.groupby('eventDate').first()\n",
    "station = station[station.index > dt.datetime(2013,1,1)]\n",
    "fig, ax = make_map_inlet(extent=(-123.2,-121.22,35.5,37.675))\n",
    "im = ax.pcolormesh(xx, yy, seasonal,transform=ccrs.PlateCarree(),cmap=plt.cm.get_cmap('cmo.speed', len(cat_key)))\n",
    "plt.FuncFormatter(lambda val, loc: int(cat_values[np.where(ticks == val)][0]))\n",
    "# fname = '/Users/patrick/Documents/CeNCOOS/store-locator/data/sanctuary_files/gfnms_py2/GFNMS_py.shp'\n",
    "# GF_shape = Reader(fname)\n",
    "# ax.add_geometries(GF_shape.geometries(),ccrs.PlateCarree(),edgecolor='k',alpha=.85,lw=2,zorder=1)\n",
    "fname = '/Users/patrick/Documents/CeNCOOS/store-locator/data/sanctuary_files/mbnms_py2/mbnms_py.shp'\n",
    "GF_shape = Reader(fname)\n",
    "ax.add_geometries(GF_shape.geometries(),ccrs.PlateCarree(),edgecolor='#c51b8a',alpha=.85,facecolor=\"None\",linestyle='dashed',lw=3,zorder=1)\n",
    "# fname = '/Users/patrick/Documents/CeNCOOS/store-locator/data/sanctuary_files/cbnms_py2/CBNMS_py.shp'\n",
    "# GF_shape = Reader(fname)\n",
    "# ax.add_geometries(GF_shape.geometries(),ccrs.PlateCarree(),facecolor='#756bb1',alpha=.85,edgecolor=\"k\",lw=2,zorder=1)\n",
    "\n",
    "cbar = plt.colorbar(im, cax=ax_cb, ticks=ticks,format=formatter)\n",
    "cbar.ax.tick_params(labelsize=20) \n",
    "\n",
    "# CS = ax.contourf(llon,llat,elev,levels,alpha=.75,cmap=cm.deep)\n",
    "ax.scatter(rf_2015['longitude (degrees_east)'], rf_2015['latitude (degrees_north)'],s=110,edgecolor='w', marker='D',c='#4393c3',zorder=4) # Rockfish\n",
    "# ax.scatter(station['Lon'],station['Lat'],c='#d6604d',edgecolor='w',s=210,marker='o',linewidths=2,zorder=4) # ACCESS\n",
    "\n",
    "plot_seal_tracks(ax, atn_df)\n",
    "# ax.scatter(rf_2015['longitude (degrees_east)'], rf_2015['latitude (degrees_north)'], marker='D',edgecolor='w') # Rockfish\n",
    "ax.scatter(df_thl['Lon'][:-3], df_thl['Lat'][:-3],marker='s',edgecolor='w',linewidths=2,c='#f46d43',s=115)\n",
    "ax.scatter(df_c['longitude (degrees_east)'], df_c['latitude (degrees_north)'],c=\".25\", marker='v',linewidths=3,edgecolor='#d6604d', s=135,zorder=50) # calcofi\n",
    "# MBARI TS Stations\n",
    "\n",
    "ax.scatter([-122.022,-122.378,-121.847,-122.772,-123.485,-124.195, -124.902],[36.747,36.697,36.797,36.453,36.120,35.786,35.453],marker='P',s=170,zorder=21,linewidths=2,edgecolor='w',c=\"#ff7700\")\n",
    "\n",
    "for i, name in enumerate(gliders_to_plot):\n",
    "    df_temp = df_gliders[df_gliders['glider_name']==name]\n",
    "    ax.scatter(df_temp['longitude (degrees_east)'], df_temp['latitude (degrees_north)'],s=75,marker='.',c='k',zorder=2) # Gliders\n",
    "\n",
    "plt.savefig('Centeral_CA_insert.png',dpi=300, bbox_inches='tight', pad_inches=0)"
   ]
  },
  {
   "cell_type": "code",
   "execution_count": null,
   "metadata": {},
   "outputs": [],
   "source": [
    "lon = [-122.022,-122.378,-121.847,-122.772,-123.485,-124.195, -124.902]\n",
    "\n",
    "lat = [36.747,36.697,36.797,36.453,36.120,35.786,35.453]\n",
    "mbari_df = pd.DataFrame(data={'latitude (degrees_north)':lat,'longitude (degrees_east)':lon})\n",
    "mbari_df['source'] = 'mbari'"
   ]
  },
  {
   "cell_type": "code",
   "execution_count": null,
   "metadata": {},
   "outputs": [],
   "source": [
    "# df_thl = df_thl.rename(columns={'Lat':'latitude (degrees_north)',\"Lon\":'longitude (degrees_east)'})\n",
    "df_thl['source'] = 'trinidad_head_line'\n",
    "df_all = pd.concat((mbari_df,df_thl[['latitude (degrees_north)','longitude (degrees_east)','source']]))\n",
    "df_c['source'] = 'CalCOFI_2015'\n",
    "df_all = pd.concat((df_all,df_c[['latitude (degrees_north)','longitude (degrees_east)','source']])).reset_index(drop=True)\n",
    "rf_2015['source'] = 'rockfish_2015'\n",
    "rf_2015 = rf_2015.groupby(['cruise','station']).first().reset_index()\n",
    "df_all = pd.concat((df_all,rf_2015[['latitude (degrees_north)','longitude (degrees_east)','source']])).reset_index(drop=True)\n",
    "access_df = station.rename(columns={'Lat':'latitude (degrees_north)',\"Lon\":'longitude (degrees_east)'})\n",
    "access_df = access_df.reset_index(drop=True)\n",
    "access_df['source'] = 'ACCESS_2013_2014'\n",
    "df_all = pd.concat((df_all,access_df[['latitude (degrees_north)','longitude (degrees_east)','source']])).reset_index(drop=True)\n",
    "df_all.to_csv('MBON-proposal-map-coords.csv',index=False)"
   ]
  },
  {
   "cell_type": "code",
   "execution_count": null,
   "metadata": {},
   "outputs": [],
   "source": []
  },
  {
   "cell_type": "code",
   "execution_count": null,
   "metadata": {},
   "outputs": [],
   "source": [
    "fname = './etopo1.nc'\n",
    "ds_bathy = xr.open_dataset(fname)\n",
    "elev = ds_bathy['Band1'] * -1\n",
    "llon, llat = np.meshgrid(ds_bathy['lon'], ds_bathy['lat'])\n",
    "levels = np.append(np.arange(-10,501,100), np.array((1000,1500,2000,3000,16000)))\n"
   ]
  },
  {
   "cell_type": "code",
   "execution_count": null,
   "metadata": {},
   "outputs": [],
   "source": [
    "fname = './trinidad_head_station_locations.csv'\n",
    "df_thl = pd.read_csv(fname)\n",
    "\n",
    "fig, ax = make_map_inlet_humboldt()\n",
    "im = ax.pcolormesh(xx, yy, seasonal,transform=ccrs.PlateCarree(),cmap=plt.cm.get_cmap('cmo.speed', len(cat_key)))\n",
    "# im = ax.pcolormesh(xx, yy, seasonal,transform=ccrs.PlateCarree(),cmap='cmo.amp')\n",
    "# divider = make_axes_locatable(ax)\n",
    "# ax_cb = divider.new_horizontal(size=\"5%\", pad=.45, axes_class=plt.Axes)\n",
    "# fig.add_axes(ax_cb)\n",
    "# formatter = plt.FuncFormatter(lambda val, loc: int(cat_values[int(val)]))\n",
    "# formatter = plt.FuncFormatter(lambda val, loc: int(cat_values[np.where(ticks == val)][0]))\n",
    "\n",
    "# cbar = plt.colorbar(im, cax=ax_cb, ticks=ticks,format=formatter)\n",
    "# cbar.ax.tick_params(labelsize=20) \n",
    "# CS = ax.contourf(llon,llat,elev,levels,alpha=.75,cmap=cm.deep)\n",
    "for i, name in enumerate(gliders_to_plot):\n",
    "    df_temp = df_gliders[df_gliders['glider_name']==name]\n",
    "    ax.scatter(df_temp['longitude (degrees_east)'], df_temp['latitude (degrees_north)'],s=75,marker='.',c='k',zorder=1) # Gliders\n",
    "\n",
    "ax.scatter(rf_2015['longitude (degrees_east)'], rf_2015['latitude (degrees_north)'],s=90, marker='D',edgecolor='w',zorder=2) # Rockfish\n",
    "\n",
    "ax.scatter(df_thl['Lon'][:-3], df_thl['Lat'][:-3],marker='s',edgecolor='w',linewidths=2,c='#f46d43',s=115,zorder=2)\n",
    "\n",
    "fname = '/Users/patrick/Documents/CeNCOOS/store-locator/data/boem_call_areas_10_01_18/BOEM Call_Areas_10_01_18.shp'\n",
    "GF_shape = Reader(fname)\n",
    "ax.add_geometries(GF_shape.geometries(),ccrs.UTM(zone=10),facecolor='#bdbdbd',alpha=.85,edgecolor=\"k\",lw=2,zorder=1,hatch='//')\n",
    "\n",
    "\n",
    "plt.savefig('trinidad_line_insert.png',dpi=300, bbox_inches='tight', pad_inches=0)"
   ]
  },
  {
   "cell_type": "markdown",
   "metadata": {},
   "source": [
    "### Add ATN Tracks"
   ]
  },
  {
   "cell_type": "code",
   "execution_count": null,
   "metadata": {},
   "outputs": [],
   "source": [
    "e = ERDDAP(\n",
    "    server='https://coastwatch.pfeg.noaa.gov/erddap',\n",
    "    protocol='tabledap',\n",
    ")\n",
    "e.dataset_id = \"gtoppAT\"\n",
    "\n",
    "# e.constraints = {\n",
    "#     'latitude>=': min_lat,\n",
    "#     'latitude<=': max_lat,\n",
    "#     'longitude>=': 360 + min_lon,\n",
    "#     'longitude<=': 360 + max_lon,\n",
    "# }\n",
    "\n",
    "e.variables = [\n",
    " 'time',\n",
    " 'latitude',\n",
    " 'longitude',\n",
    " 'toppID',\n",
    " 'commonName',\n",
    " 'yearDeployed',\n",
    " 'isDrifter'\n",
    "]\n",
    "\n",
    "atn_df = e.to_pandas().dropna()\n",
    "\n",
    "print(atn_df['commonName'].unique())\n",
    "atn_df['longitude (degrees_east)'] = -360+atn_df['longitude (degrees_east)']"
   ]
  },
  {
   "cell_type": "code",
   "execution_count": null,
   "metadata": {},
   "outputs": [],
   "source": [
    "def plot_seal_tracks(ax, atn_df):\n",
    "    \"\"\" Plot the atn elephan seal tracks deployed after 2016\"\"\"\n",
    "    elph_seals = atn_df[(atn_df['commonName'] == \"Northern Elephant Seal\")&(atn_df['yearDeployed'] >= 2016)]\n",
    "    for t_id in elph_seals['toppID'].unique()[:8]:\n",
    "        tag = elph_seals[(elph_seals['toppID'] == t_id)]\n",
    "        ax.plot(tag['longitude (degrees_east)'], tag['latitude (degrees_north)'], marker=\"o\",lw=2,ms=7,mew=1.5,mec='.95',c=\"#7F7F7F\")"
   ]
  },
  {
   "cell_type": "code",
   "execution_count": null,
   "metadata": {},
   "outputs": [],
   "source": [
    "# elph_seals = atn_df[(atn_df['commonName'] == \"Northern Elephant Seal\")&(atn_df['yearDeployed'] >= 2016)]\n",
    "# elph_seals['toppID'].un"
   ]
  },
  {
   "cell_type": "code",
   "execution_count": null,
   "metadata": {},
   "outputs": [],
   "source": [
    "gliders_to_plot = [\"sp058-20180126T1753\",'UW157-20180417T1832',\"Nemesis-20180830T0000\",\"sp025-20180430T1727\"]\n",
    "fig, ax = make_map()\n",
    "im = ax.pcolormesh(xx, yy, seasonal,transform=ccrs.PlateCarree(),cmap=plt.cm.get_cmap('cmo.speed', len(cat_key)))\n",
    "# im = ax.pcolormesh(xx, yy, seasonal,transform=ccrs.PlateCarree(),cmap='cmo.amp')\n",
    "divider = make_axes_locatable(ax)\n",
    "ax_cb = divider.new_horizontal(size=\"5%\", pad=.45, axes_class=plt.Axes)\n",
    "fig.add_axes(ax_cb)\n",
    "formatter = plt.FuncFormatter(lambda val, loc: int(cat_values[int(val)]))\n",
    "formatter = plt.FuncFormatter(lambda val, loc: int(cat_values[np.where(ticks == val)][0]))\n",
    "\n",
    "cbar = plt.colorbar(im, cax=ax_cb, ticks=ticks,format=formatter)\n",
    "cbar.ax.tick_params(labelsize=20) \n",
    "\n",
    "for i, name in enumerate(gliders_to_plot):\n",
    "    df_temp = df_gliders[df_gliders['glider_name']==name]\n",
    "    ax.scatter(df_temp['longitude (degrees_east)'], df_temp['latitude (degrees_north)'],s=75,marker='.',c='k') # Gliders\n",
    "\n",
    "    \n",
    "    \n",
    "# temp_df = rf_2015[(rf_2015['station'] < 200) & (rf_2015['station'] < 200)]   \n",
    "# ax.scatter(temp_df['longitude (degrees_east)'], temp_df['latitude (degrees_north)'], marker='.') # Rockfish\n",
    "plot_seal_tracks(ax, atn_df)\n",
    "\n",
    "ax.scatter(rf_2015['longitude (degrees_east)'], rf_2015['latitude (degrees_north)'], marker='D',edgecolor='w') # Rockfish\n",
    "ax.scatter(df_thl['Lon'][:-3], df_thl['Lat'][:-3],marker='s',edgecolor='w',linewidths=2,c='#f46d43',s=115)\n",
    "\n",
    "ax.scatter(df_c['longitude (degrees_east)'], df_c['latitude (degrees_north)'],c=\".25\", marker='v',linewidths=3,edgecolor='#d6604d', s=135,zorder=50) # calcofi\n",
    "ax.scatter([-122.022,-122.378,-121.847,-122.772,-123.485,-124.195, -124.902],[36.747,36.697,36.797,36.453,36.120,35.786,35.453],marker='P',s=170,zorder=21,linewidths=2,edgecolor='w')\n",
    "\n",
    "\n",
    "# fname = os.path.join('MBON_all_map.png')\n",
    "# fname = '/Users/patrick/Documents/CeNCOOS/store-locator/data/sanctuary_files/gfnms_py2/GFNMS_py.shp'\n",
    "# GF_shape = Reader(fname)\n",
    "# ax.add_geometries(GF_shape.geometries(),ccrs.PlateCarree(),edgecolor='k',lw=2)\n",
    "# fname = '/Users/patrick/Documents/CeNCOOS/store-locator/data/sanctuary_files/mbnms_py2/mbnms_py.shp'\n",
    "# GF_shape = Reader(fname)\n",
    "# ax.add_geometries(GF_shape.geometries(),ccrs.PlateCarree(),facecolor='#c51b8a',alpha=.85,edgecolor=\"k\",lw=2)\n",
    "# fname = '/Users/patrick/Documents/CeNCOOS/store-locator/data/sanctuary_files/cbnms_py2/CBNMS_py.shp'\n",
    "# GF_shape = Reader(fname)\n",
    "# ax.add_geometries(GF_shape.geometries(),ccrs.PlateCarree(),facecolor='#756bb1',alpha=.85,edgecolor=\"k\",lw=2)\n",
    "\n",
    "plt.savefig(\"MBON_all_map.png\", dpi = 300, bbox_inches='tight', pad_inches=.5)"
   ]
  },
  {
   "cell_type": "code",
   "execution_count": null,
   "metadata": {},
   "outputs": [],
   "source": [
    "rf_2015['station'].unique()"
   ]
  },
  {
   "cell_type": "markdown",
   "metadata": {},
   "source": [
    "### SST Data"
   ]
  },
  {
   "cell_type": "code",
   "execution_count": null,
   "metadata": {},
   "outputs": [],
   "source": [
    "# ghrsst_NAVO-L4HR1m-GLOB-K10_SST\n",
    "url=\"https://thredds.jpl.nasa.gov/thredds/dodsC/ncml_aggregation/OceanTemperature/ghrsst/aggregate__ghrsst_NAVO-L4HR1m-GLOB-K10_SST.ncml\"\n",
    "sst_ds = xr.open_dataset(url)\n",
    "sst_recent = sst_ds.sel(time=slice(dt.datetime(2018,5,1),dt.datetime(2018,6,1)), lat=slice(42, 31), lon=slice(-130.5,-116.75)) #extent=(-130.5,-116.75,31,42))\n",
    "xx,yy = np.meshgrid(sst_recent['lon'], sst_recent['lat'])"
   ]
  },
  {
   "cell_type": "code",
   "execution_count": null,
   "metadata": {},
   "outputs": [],
   "source": [
    "fig, ax = make_map()\n",
    "im = ax.pcolormesh(xx, yy, sst_recent['analysed_sst'].mean(dim='time')-273.15, cmap=cm.thermal, vmin=10, vmax=18)\n",
    "plot_seal_tracks(ax, atn_df)\n",
    "ax.scatter(df_gliders['longitude (degrees_east)'], df_gliders['latitude (degrees_north)'],s=20,marker='.',c='k') # Gliders\n",
    "ax.scatter(rf_2015['longitude (degrees_east)'], rf_2015['latitude (degrees_north)'],marker=\"D\",edgecolor='k',c='.75') # Rockfish\n",
    "\n",
    "divider = make_axes_locatable(ax)\n",
    "ax_cb = divider.new_horizontal(size=\"5%\", pad=.45, axes_class=plt.Axes)\n",
    "fig.add_axes(ax_cb)\n",
    "cbar = plt.colorbar(im, cax=ax_cb,ticks=range(9,21,2))\n",
    "cbar.ax.tick_params(labelsize=20) \n",
    " \n",
    "fname = os.path.join('MBON_sst_map.png')\n",
    "# plt.savefig(fname, dpi = 300, bbox_inches='tight', pad_inches=.5)"
   ]
  },
  {
   "cell_type": "markdown",
   "metadata": {},
   "source": [
    "## Georeference seascape raster"
   ]
  },
  {
   "cell_type": "code",
   "execution_count": null,
   "metadata": {},
   "outputs": [],
   "source": [
    "fig, ax = make_map()\n",
    "\n",
    "img_extent = [-135, -90, 0, 60]\n",
    "fname = \"./MAY_CCS_seascape.jpg\"\n",
    "\n",
    "img = plt.imread(fname)\n",
    "ax.imshow(img, origin='upper', extent=img_extent, transform=ccrs.PlateCarree())\n",
    "plot_seal_tracks(ax, atn_df)\n",
    "ax.scatter(df_gliders['longitude (degrees_east)'], df_gliders['latitude (degrees_north)'],s=20,marker='.',c='k') # Gliders\n",
    "ax.scatter(rf_2015['longitude (degrees_east)'], rf_2015['latitude (degrees_north)'],marker=\"D\",edgecolor='k',c='.75') # Rockfish\n",
    "\n",
    "\n",
    "fname = os.path.join('MBON_seascape_map.png')\n",
    "plt.savefig(fname, dpi = 300, bbox_inches='tight', pad_inches=.5)"
   ]
  },
  {
   "cell_type": "markdown",
   "metadata": {},
   "source": [
    "### Make Panel Maps"
   ]
  },
  {
   "cell_type": "code",
   "execution_count": null,
   "metadata": {},
   "outputs": [],
   "source": [
    "# Mapping helper function\n",
    "def make_map_panel(projection=ccrs.PlateCarree(),extent=(-130.5,-116.75,31,42),n=4,sharex=True):\n",
    "    fig, ax = plt.subplots(nrows=2,ncols=2,\n",
    "        subplot_kw={'projection': projection}\n",
    "    )\n",
    "    plt.subplots_adjust(left=None, bottom=None, right=None, top=None, wspace=.05, hspace=.05)\n",
    "    fig.set_size_inches(7,6)\n",
    "\n",
    "    for i, ax_i in enumerate(ax.flatten()):\n",
    "        ax_i.set_extent(extent, crs=ccrs.PlateCarree())\n",
    "        gl = ax_i.gridlines(draw_labels=True,)\n",
    "        gl.xlines = False\n",
    "        gl.ylines = False\n",
    "        gl.ylabels_right = False\n",
    "        ax_i.coastlines('50m')\n",
    "        ocean_50m  = cfeature.NaturalEarthFeature(category='physical', name='ocean',\n",
    "                                scale='50m', facecolor=cfeature.COLORS['water'])\n",
    "        ax_i.add_feature(ocean_50m,zorder=0)\n",
    "        plt.xticks(rotation='vertical')\n",
    "        gl.xlocator = mticker.FixedLocator(np.arange(-129,-117,3))\n",
    "        gl.ylocator = mticker.FixedLocator(np.arange(32,42,3))\n",
    "#         gl.xformatter = LONGITUDE_FORMATTER\n",
    "#         gl.yformatter = LATITUDE_FORMATTER\n",
    "        gl.xlabel_style = {'size': 16}\n",
    "        gl.ylabel_style = {'size': 16}\n",
    "        if i == 0:\n",
    "            gl.xlabels_bottom= False\n",
    "            gl.xlabels_top= False\n",
    "        elif i == 1:\n",
    "            gl.ylabels_left = False\n",
    "            gl.xlabels_bottom= False\n",
    "            gl.xlabels_top= False\n",
    "        elif i == 2:\n",
    "            gl.ylabels_right= False\n",
    "            gl.xlabels_top= False\n",
    "        else:\n",
    "            gl.ylabels_left= False\n",
    "            gl.ylabels_right= False\n",
    "            gl.xlabels_top= False\n",
    "\n",
    "    return fig, ax.flatten()\n",
    "\n",
    "# fig, ax = make_map_panel()"
   ]
  },
  {
   "cell_type": "code",
   "execution_count": null,
   "metadata": {},
   "outputs": [],
   "source": [
    "fig, ax = make_map_panel()\n",
    "ax[0].quiver(xx[ix],yy[ix],u.values[ix],v.values[ix],speed[ix],\n",
    "          cmap=cm.speed,\n",
    "          scale_units='xy',\n",
    "          scale=.75) # HFR\n",
    "ax[1].scatter(df_gliders['longitude (degrees_east)'], df_gliders['latitude (degrees_north)'],s=5,marker='.',c='k') # Gliders\n",
    "ax[2].scatter(rf_2015['longitude (degrees_east)'], rf_2015['latitude (degrees_north)'], marker=\".\",c='k',s=3) # Rockfish\n",
    "plot_seal_tracks(ax[3], atn_df)\n",
    "\n",
    "fname = os.path.join('MBON_panel_map.png')\n",
    "plt.savefig(fname, dpi = 300, bbox_inches='tight', pad_inches=.5)"
   ]
  }
 ],
 "metadata": {
  "kernelspec": {
   "display_name": "Python 3 (ipykernel)",
   "language": "python",
   "name": "python3"
  },
  "language_info": {
   "codemirror_mode": {
    "name": "ipython",
    "version": 3
   },
   "file_extension": ".py",
   "mimetype": "text/x-python",
   "name": "python",
   "nbconvert_exporter": "python",
   "pygments_lexer": "ipython3",
   "version": "3.9.7"
  }
 },
 "nbformat": 4,
 "nbformat_minor": 4
}
